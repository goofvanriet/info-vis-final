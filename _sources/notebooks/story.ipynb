{
 "cells": [
  {
   "cell_type": "code",
   "execution_count": null,
   "id": "06bde249",
   "metadata": {
    "tags": [
     "remove_input"
    ]
   },
   "outputs": [],
   "source": [
    "%%html\n",
    "<style>\n",
    ".cartesianlayer .bars path,\n",
    ".colorbar .cbfills,\n",
    ".slider-rail-rect { clip-path: inset(0% 0% 0% 0% round 6px); }\n",
    "\n",
    ".legendundefined { clip-path: inset(0% 0% 0% 0% round 3px); }\n",
    "\n",
    ".gtitle .line:nth-of-type(2) { fill: grey; }\n",
    "\n",
    ".output_area:last-of-type,\n",
    ".cell_output {\n",
    "    filter: drop-shadow(0px 0px 10px rgba(0, 0, 0, 0.2));\n",
    "    -webkit-backdrop-filter: blur(0); // fixes a safari drop-shadow bug\n",
    "}\n",
    "\n",
    "#notebook-container img,\n",
    "main img {\n",
    "    box-shadow: 0px 0px 10px rgba(0, 0, 0, 0.2);\n",
    "}\n",
    "\n",
    "#notebook-container img,\n",
    "main img,\n",
    ".plotly-graph-div {\n",
    "    border-radius: 10px;\n",
    "    overflow: hidden;\n",
    "    border: 1px solid #d8bea1;\n",
    "}\n",
    "</style>"
   ]
  },
  {
   "cell_type": "markdown",
   "id": "30f356a4",
   "metadata": {
    "tags": [
     "remove_input"
    ]
   },
   "source": [
    "# Welvaart, uitstoot & verduurzaming\n",
    "![](../static/images/banner.png)\n",
    "Al meer dan een kwart decenium lang kent de emissie van broeikasgassen.(Lan et al., 2012) Deze trend begonnen na de industriele revolutie, ca. 1750, blijkt stevig door te zetten. Te veel broeikasgassen in de atmosfeer zorgen ervoor dat warmte wordt vastgehouden waardoor de temperatuur aan het aardoppervlak toeneemt. Dit kan desastreuze gevolgen hebben voor de planeet en al haar bewoners.\n",
    "\n",
    "Opvallend is echter dat er een grote correlatie te meten is tussen de stijgende welvaart en de toename van de uitstoor van deze gassen. Onze data story spitst zich toe op de correlatie tussen HDI, een maatstaf voor welvaart, en CO2, het broeikasgas dat op waterdamp en wolken na de grootste bijdrager is aan het broeikaseffect (Schmidt et al., 2010).\n",
    "\n",
    "In onze data story werken wij 2 perspectieven uit om te onderzoeken of een hogere HDI daadwerekelijk leidt tot een negatieve impact op het milieu.\n",
    "\n",
    "Allereerst onderzoeken wij de relatie tussen de HDI en CO2 uitstoot. Hierbij kijken we wereldwijd naar zowel de HDI als de CO2 uitstoot per land.\n",
    "\n",
    "Vervolgens onderzoeken wij de relatie tussen een hoge HDI en een toename in het gebruik van duurzame energie. Hieruit kunnen wij dan mogelijk concluderen dat alhoewel een stijging van de HDI leid tot een stijging van CO2 op de korte termijn, voldoende stijging van de HDI juist deze stijging kan omkeren.\n",
    "\n",
    "## Data\n",
    "We zullen gebruikmaken van een uitgebreide dataset over CO2-emissies, beschikbaar gesteld door Our World In Data (Ritchie et al., 2023), om de emissietrends over de jaren heen te analyseren. Voor de HDI-gegevens gebruiken we een dataset van de Human Development Reports (UNDP, 2023). Ten slotte gebruiken we een dataset over kosten van de Levelized Costs of Energy (LCOE) (Our world in Data, 2024).\n",
    "\n",
    "### Datasets\n",
    "\n",
    "1. Ritchie, H., Roser, M., & Rosado, P. (2023). CO2 and Greenhouse Gas Emissions Data. Our World in Data. Retrieved from https://github.com/owid/co2-data/blob/master/owid-co2-codebook.csv\n",
    "\n",
    "2. United Nations Development Programme (UNDP). (2023). Human Development Index (HDI). Human Development Data Center. Retrieved from https://hdr.undp.org/data-center/human-development-index#/indicies/HDI\n",
    "\n",
    "3. Our World in Data. (n.d.). Levelized cost of energy by technology. Retrieved June 27, 2024, from https://ourworldindata.org/grapher/levelized-cost-of-energy\n",
    "\n",
    "4. Our World in Data. (n.d.). Modern renewable energy consumption. Retrieved June 27, from https://ourworldindata.org/grapher/modern-renewable-energy-consumption\n",
    "\n",
    "# Perspectief 1: Een stijgende HDI gaat gepaard met een toename aan CO2-uitstoot\n",
    "Hogere inkomens en verbeterde levensstandaarden leiden vaak tot een verhoogde consumptie van goederen en diensten. Dit perspectief bekijkt de wereldwijde consequenties hiervan voor het klimaat; een hogere uitstoot van broeikasgassen, ontbossing en uitputting van natuurlijke hulpbronnen. We gaan hier kijken naar de wereldwijde HDI-trend over afgelopen 30 de jaren, in relatie met de CO2-uitstoot. \n",
    "\n",
    "## Stijging HDI (1990-2022)\n",
    "De Human Development Index (HDI) biedt een waardevol inzicht in de wereldwijde menselijke ontwikkeling, gemeten aan de hand van levensverwachting, onderwijsniveau en inkomen per capita. Over de afgelopen decennia is er een duidelijke trend waarneembaar in de verdeling van landen over de categorieën van de HDI: laag, middelmatig en hoog."
   ]
  },
  {
   "cell_type": "code",
   "execution_count": null,
   "id": "5c1c0b41-5792-474c-aedb-b586e4a5972d",
   "metadata": {
    "tags": [
     "remove_input"
    ]
   },
   "outputs": [],
   "source": [
    "%run hdi_per_year.ipynb"
   ]
  },
  {
   "cell_type": "markdown",
   "id": "51137d7a-0819-4aea-a323-16c24c689b3a",
   "metadata": {
    "ExecuteTime": {
     "end_time": "2023-06-27T12:45:59.577891Z",
     "start_time": "2023-06-27T12:45:58.334820Z"
    },
    "tags": [
     "remove_input"
    ]
   },
   "source": [
    "Over de afgelopen decennia is het aandeel van landen met een lage en middelmatige HDI afgenomen, terwijl het aantal landen met een hoge HDI juist is toegenomen. Deze verschuiving laat zien dat de globale levensstandaarden zijn verbeterd over de afgelopen 30 jaar. Een wereldwijde verhoogde HDI betekent dat de HDI-indicatoren (gezondheidszorg, onderwijsvoorzieningen en economische groei) meer zijn ontwikkeld. \n",
    "\n",
    "De stijging van de HDI-niveaus impliceert een toename van consumptie en industriële activiteit, wat op zijn beurt kan bijdragen aan hogere CO2-emissies. Deze relatie gaan we nu verder onderzoeken door te kijken naar de correlatie tussen \"Gross Domestic Product\" (GDP/BBP), HDI en CO2-emissies per persoon.\n",
    "\n",
    "## Stijging CO2 (1990-2022)\n",
    "CO2 heeft van alle broeikasgassen het sterkste effect of het broeikasseffect. Tussen 1990 en 2022 is er een duidelijke stijging waarneembaar, die de trend vanaf ca. 1750 doorzet."
   ]
  },
  {
   "cell_type": "code",
   "execution_count": null,
   "id": "cea6d927-7af3-4ca6-adca-d6857f4cedf3",
   "metadata": {
    "tags": [
     "remove_input"
    ]
   },
   "outputs": [],
   "source": [
    "%run co2_chart.ipynb"
   ]
  },
  {
   "cell_type": "markdown",
   "id": "4a8c6930",
   "metadata": {
    "tags": [
     "remove_input"
    ]
   },
   "source": [
    "Sinds 1990 is de mondiale emissie van CO₂ aanzienlijk toegenomen. Deze stijging wordt zichtbaar in bovenstaande grafiek die de totale CO₂-emissies van 1990 tot 2022 weergeeft. Dit is een voortzetting van een al veel langer bestaande trend, aangezien CO₂-emissies al sinds het begin van de industriele revolutie (1750) enorm stijgen. De grafiek illustreert de voortzetting van deze trend: hoewel er enige fluctuatie is, blijft de uitstoot gestaag groeien, vooral na het jaar 2000.\n",
    "\n",
    "## Wereldkaart CO2"
   ]
  },
  {
   "cell_type": "code",
   "execution_count": null,
   "id": "e869f21a",
   "metadata": {
    "ExecuteTime": {
     "end_time": "2023-06-27T12:46:00.095496Z",
     "start_time": "2023-06-27T12:45:59.577250Z"
    },
    "tags": [
     "remove_input"
    ]
   },
   "outputs": [],
   "source": [
    "%run co2_per_capita.ipynb"
   ]
  },
  {
   "cell_type": "markdown",
   "id": "69e14467",
   "metadata": {
    "tags": [
     "remove_input"
    ]
   },
   "source": [
    "Deze interactieve wereldkaart toont de jaarlijkse CO₂-emissies per capita van verschillende landen van 1750 tot 2022. De kleuren op de kaart representeren de hoeveelheid CO₂-uitstoot per persoon, waarbij lichtere kleuren hogere emissies aangeven. De eenheid die gebruikt wordt bij de CO₂-uitstoot per persoon is ton. De animatie slider onderaan de kaart maakt het mogelijk om de veranderingen in CO₂-emissies over de jaren te volgen. De belangrijkste boodschap van deze visualisatie is de duidelijke toename van CO₂-emissies per capita in de loop van de tijd. Dit benadrukt de groeiende impact van menselijke activiteiten op het milieu door de tijd heen. Tegelijkertijd is in de loop van de jaren.\n",
    "\n",
    "## Correlatie CO2 & HDI"
   ]
  },
  {
   "cell_type": "code",
   "execution_count": null,
   "id": "ef3a47ec",
   "metadata": {
    "ExecuteTime": {
     "end_time": "2023-06-27T12:46:00.744839Z",
     "start_time": "2023-06-27T12:46:00.089750Z"
    },
    "tags": [
     "remove_input"
    ]
   },
   "outputs": [],
   "source": [
    "%run scatter_bubble.ipynb"
   ]
  },
  {
   "cell_type": "markdown",
   "id": "b27f07f6",
   "metadata": {
    "tags": [
     "remove_input"
    ]
   },
   "source": [
    "# Perspectief 2: Toename van HDI is op langere termijn juist goed voor het milieu\n",
    "\n",
    "## Fossiele brandstoffen trend (1990-2022)"
   ]
  },
  {
   "cell_type": "code",
   "execution_count": null,
   "id": "a0793658",
   "metadata": {
    "ExecuteTime": {
     "end_time": "2023-06-27T12:46:01.258730Z",
     "start_time": "2023-06-27T12:46:00.739967Z"
    },
    "tags": [
     "remove_input"
    ]
   },
   "outputs": [],
   "source": [
    "%run co2_fossil_chart.ipynb"
   ]
  },
  {
   "cell_type": "markdown",
   "id": "c3420dc1",
   "metadata": {
    "tags": [
     "remove_input"
    ]
   },
   "source": [
    "Op basis van de grafiek is duidelijk te zien dat het aandeel van CO2-uitstoot door fossiele brandstoffen van 1990 tot 2022 afneemt. Daar waar te totale CO2 emissie toeneemt blijven de CO2 emissies van fossiele brandstoffen stabiel of vertonen een lichte stijging of daling. Dit wijst mogelijk op een verschuiving naar duurzamere energiebronnen in de afgelopen decennia.\n",
    "\n",
    "\n",
    "## Toename van HDI zorgt voor verduurzaming\n",
    "We zien dat in de afgelopen jaren de wereldwijde HDI lineair is gestegen, terwijl het aantal hernieuwbare energieen vanaf 2010 exponentieel is toegenomen. Deze exponentiele toename aan hernieuwbare energieen laat zien dat we sinds kort het belang van het klimaat inzien en als gevolg ons meer bezig houden met het verduurzamen van energiebronnen."
   ]
  },
  {
   "cell_type": "code",
   "execution_count": null,
   "id": "c1bee8eb",
   "metadata": {
    "ExecuteTime": {
     "end_time": "2023-06-27T12:46:02.987877Z",
     "start_time": "2023-06-27T12:46:01.258392Z"
    },
    "tags": [
     "remove_input"
    ]
   },
   "outputs": [],
   "source": [
    "%run hdi_renewables.ipynb"
   ]
  },
  {
   "cell_type": "markdown",
   "id": "c9c3d982",
   "metadata": {
    "tags": [
     "remove_input"
    ]
   },
   "source": [
    "De positieve correlatie tussen de stijging van HDI en het gebruik van hernieuwbare energie ondersteunt het argument dat hogere niveaus van menselijke ontwikkeling kunnen leiden tot duurzamere milieuprestaties.\n",
    "\n",
    "\n",
    "## De kosten van hernieuwbare energie daalt\n",
    "\n",
    "Over de afgelopen 23 jaar zien we dat de kosten van alle hernieuwbare energieen is gedaald. Van alle hernieuwbare energiebronnen zien we dat vooral de kosten van energie uit zonnepanelen zijn gedaald. Dit zou kunnen doordat de technologieen efficienter zijn geworden. Uit onderzoek (Roser, 2020) blijkt deze hypothese te kloppen; het aantal transistors per microchip is de afgelopen jaren exponentieel toegenomen waardoor zonnepanelen minder microchips "
   ]
  },
  {
   "cell_type": "code",
   "execution_count": null,
   "id": "dece85fa",
   "metadata": {
    "ExecuteTime": {
     "end_time": "2023-06-27T12:46:04.013145Z",
     "start_time": "2023-06-27T12:46:02.987487Z"
    },
    "tags": [
     "remove_input"
    ]
   },
   "outputs": [],
   "source": [
    "%run costs_sources.ipynb"
   ]
  },
  {
   "cell_type": "markdown",
   "id": "262ee373",
   "metadata": {
    "tags": [
     "remove_input"
    ]
   },
   "source": [
    "De exponentiele toename aan milieuvriendelijke energiebronnen valt te verklaren door de toename aan wereldwijde HDI-patronen. Een verbetering aan wereldwijde levenskwaliteiten biedt ruimte voor onderzoeken en verbeteringen van duurzame technologieen waardoor duurzame energiebronnen betaalbaarder worden.\n",
    "\n",
    "## Summary\n",
    "Pay inequality is a problem that has plagued women for centuries and may continue to do so for years into the future. When salaries in software development were investigated for gender bias, male developers were shown to earn noticeably more than female developers. To gain more insights, an analysis of four factors that might instead explain this difference was conducted using the Stack Overflow developer survey. Findings based on age and professional experience offer non-discriminatory explanations for part of the pay gap. However, further examination of the effects of professional experience, education, and job position suggest the presence of discrimination within the salaries of software developers. The final exploration of pay gaps across different countries portrayed the complexities of how culture can influence gender inequality while indicating that improvements have taken place over the last nine years. While many potential explanations for the pay gap have been illustrated, further research and more data would be necessary to accept any position conclusively.\n",
    "\n",
    "\n",
    "## Referenties\n",
    "1. Lynas, M., Houlton, B. Z., & Perry, S. (2021). Greater than 99% consensus on human caused climate change in the peer-reviewed scientific literature. Environmental Research Letters, 16(11), 114005. https://doi.org/10.1088/1748-9326/ac2966\n",
    "2. Lan, X., Tans, P. and K.W. Thoning: Trends in globally-averaged CO2 determined from NOAA Global Monitoring Laboratory measurements. Version 2024-06 https://doi.org/10.15138/9N0H-ZH07 \n",
    "3. Schmidt, G. A., Ruedy, R. A., Miller, R. L., & Lacis, A. A. (2010). Attribution of the present‐day total greenhouse effect. Journal of Geophysical Research, 115(D20). https://doi.org/10.1029/2010jd014287\n",
    "4. tbd. Ritchie, H., & Roser, M. (2023). Cheap renewables are transforming the global energy landscape. Our World in Data. Retrieved from https://ourworldindata.org/cheap-renewables-growth#article-licence\n",
    "\n",
    "## Externe links\n",
    "- [Github repository](https://github.com/goofvanriet/info-vis-final)\n"
   ]
  }
 ],
 "metadata": {
  "kernelspec": {
   "display_name": "Python 3 (ipykernel)",
   "language": "python",
   "name": "python3"
  },
  "language_info": {
   "codemirror_mode": {
    "name": "ipython",
    "version": 3
   },
   "file_extension": ".py",
   "mimetype": "text/x-python",
   "name": "python",
   "nbconvert_exporter": "python",
   "pygments_lexer": "ipython3",
   "version": "3.10.6"
  }
 },
 "nbformat": 4,
 "nbformat_minor": 5
}
