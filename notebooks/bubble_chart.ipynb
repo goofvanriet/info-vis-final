{
 "cells": [
  {
   "cell_type": "code",
   "execution_count": null,
   "metadata": {},
   "outputs": [],
   "source": [
    "import pandas as pd\n",
    "import plotly.express as px\n",
    "\n",
    "df = pd.read_csv('../data/data_v7.csv', delimiter=';')\n",
    "\n",
    "gdp_lower = df['gdp_per_capita'].quantile(0.025)\n",
    "gdp_upper = df['gdp_per_capita'].quantile(0.975)\n",
    "hdi_lower = df['hdi'].quantile(0.025)\n",
    "hdi_upper = df['hdi'].quantile(0.975)\n",
    "\n",
    "df_filtered = df[(df['gdp_per_capita'] >= gdp_lower) & (df['gdp_per_capita'] <= gdp_upper) &\n",
    "                 (df['hdi'] >= hdi_lower) & (df['hdi'] <= hdi_upper)]\n",
    "\n",
    "fig = px.scatter(df_filtered, x='gdp_per_capita', y='hdi',\n",
    "                 hover_name='country',\n",
    "                 color='co2_per_capita',\n",
    "                 color_continuous_scale='viridis_r',\n",
    "                 labels={'gdp_per_capita': 'GDP per capita', 'hdi': 'HDI', 'co2_per_capita': 'CO2 per capita'},\n",
    "                 title='Bubble chart van CO2 per capita vs. HDI (met grootte gebaseerd op GDP per capita)')\n",
    "\n",
    "fig.show()"
   ]
  }
 ],
 "metadata": {
  "language_info": {
   "name": "python"
  }
 },
 "nbformat": 4,
 "nbformat_minor": 2
}
